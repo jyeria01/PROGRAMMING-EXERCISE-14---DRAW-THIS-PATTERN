{
 "cells": [
  {
   "cell_type": "markdown",
   "id": "7cb700cc",
   "metadata": {},
   "source": [
    "# PROGRAM EXERCISE 14 - DRAW THIS PATTERN"
   ]
  },
  {
   "cell_type": "code",
   "execution_count": 1,
   "id": "a8dfdd09",
   "metadata": {},
   "outputs": [
    {
     "name": "stdout",
     "output_type": "stream",
     "text": [
      "*\n",
      "**\n",
      "***\n",
      "****\n",
      "*****\n",
      "******\n",
      "*******\n",
      "********\n"
     ]
    }
   ],
   "source": [
    "# PROGRAM 4-19 TAKEN FROM THE BOOK THAT I HAVE ALREADY DONE\n",
    "# NOW I NEED TO SHOW IT THE OPPOSITE WAY.\n",
    "\n",
    "# THIS PROGRAM DISPLAYS A TRIANGLE PATTERN.\n",
    "BASE_SIZE = 8\n",
    "for r in range(BASE_SIZE):\n",
    "    for c in range(r + 1):\n",
    "        print('*', end='')\n",
    "    print()"
   ]
  },
  {
   "cell_type": "code",
   "execution_count": null,
   "id": "59eb0970",
   "metadata": {},
   "outputs": [],
   "source": []
  }
 ],
 "metadata": {
  "kernelspec": {
   "display_name": "Python 3 (ipykernel)",
   "language": "python",
   "name": "python3"
  },
  "language_info": {
   "codemirror_mode": {
    "name": "ipython",
    "version": 3
   },
   "file_extension": ".py",
   "mimetype": "text/x-python",
   "name": "python",
   "nbconvert_exporter": "python",
   "pygments_lexer": "ipython3",
   "version": "3.11.4"
  }
 },
 "nbformat": 4,
 "nbformat_minor": 5
}
